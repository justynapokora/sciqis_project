{
 "cells": [
  {
   "cell_type": "markdown",
   "source": [
    "# 1. Circuit definition"
   ],
   "metadata": {
    "collapsed": false
   },
   "id": "bc0030a6b3df8569"
  },
  {
   "cell_type": "code",
   "execution_count": 3,
   "id": "initial_id",
   "metadata": {
    "collapsed": true,
    "ExecuteTime": {
     "end_time": "2025-08-17T21:08:07.533312100Z",
     "start_time": "2025-08-17T21:08:06.927582900Z"
    }
   },
   "outputs": [],
   "source": [
    "%matplotlib inline\n",
    "import numpy as np\n",
    "from utils.gates import ONE_QUBIT_FIXED_GATE_SET, TWO_QUBITS_FIXED_GATE_SET, FIXED_GATE_SET, \\\n",
    "    ONE_QUBIT_PARAMETRISED_GATE_SET, TWO_QUBITS_PARAMETRISED_GATE_SET, PARAMETRISED_GATE_SET, \\\n",
    "    ONE_QUBIT_GATES, TWO_QUBITS_GATES, CircuitGate, GATES\n",
    "from utils.states import State, STATES\n",
    "from utils.circuit import Circuit\n",
    "\n",
    "from utils.draw_circuit import draw_circuit, save_circuit_drawing\n",
    "from utils.random_gates import sample_random_gates, resolve_parameters\n",
    "\n",
    "np.set_printoptions(precision=3, suppress=True)\n",
    "\n",
    "# define rng\n",
    "RNG = np.random.default_rng(4242)"
   ]
  },
  {
   "cell_type": "markdown",
   "source": [
    "### STATES"
   ],
   "metadata": {
    "collapsed": false
   },
   "id": "51d00d85582b4c55"
  },
  {
   "cell_type": "code",
   "execution_count": 4,
   "outputs": [
    {
     "name": "stdout",
     "output_type": "stream",
     "text": [
      "0.707 |01⟩ + -0.707 |10⟩\n",
      "[[ 0.   +0.j]\n",
      " [ 0.707+0.j]\n",
      " [-0.707+0.j]\n",
      " [ 0.   +0.j]]\n",
      "1 |0000⟩\n",
      "0.5 |00100⟩ + -0.5 |00111⟩ + 0.5 |01000⟩ + -0.5 |01011⟩\n"
     ]
    }
   ],
   "source": [
    "print(STATES.psi_minus)\n",
    "print(STATES.psi_minus.qubit_vector)\n",
    "\n",
    "print(STATES.generate_zero_n_qubit_state(4))\n",
    "\n",
    "print(STATES.generate_state([\n",
    "    STATES.zero,\n",
    "    STATES.psi_plus,\n",
    "    STATES.phi_minus\n",
    "]))"
   ],
   "metadata": {
    "collapsed": false,
    "ExecuteTime": {
     "end_time": "2025-08-17T21:08:10.876989100Z",
     "start_time": "2025-08-17T21:08:10.841663300Z"
    }
   },
   "id": "f06fe5303b01ea7"
  },
  {
   "cell_type": "markdown",
   "source": [
    "### GATES"
   ],
   "metadata": {
    "collapsed": false
   },
   "id": "faebb22f25f71b34"
  },
  {
   "cell_type": "code",
   "execution_count": 5,
   "outputs": [],
   "source": [
    "gates=[  # TODO explain layers\n",
    "        [\n",
    "            CircuitGate(GATES.X, target_qubit=2),\n",
    "            CircuitGate(GATES.H, target_qubit=0)\n",
    "        ],\n",
    "    \n",
    "        [\n",
    "            CircuitGate(GATES.init_Rx(np.pi / 4), target_qubit=2),\n",
    "            CircuitGate(GATES.Ry, target_qubit=1),\n",
    "            CircuitGate(GATES.Rz, target_qubit=0)\n",
    "        ],\n",
    "\n",
    "        [\n",
    "            CircuitGate(GATES.CNOT, target_qubit=2, control_qubit=1),\n",
    "            CircuitGate(GATES.init_CRz(np.pi / 4), target_qubit=2, control_qubit=0),\n",
    "            CircuitGate(GATES.CRx, target_qubit=2, control_qubit=0),\n",
    "        ]\n",
    "    ]"
   ],
   "metadata": {
    "collapsed": false,
    "ExecuteTime": {
     "end_time": "2025-08-17T21:08:11.803411900Z",
     "start_time": "2025-08-17T21:08:11.791682600Z"
    }
   },
   "id": "812120292c235669"
  },
  {
   "cell_type": "code",
   "execution_count": 6,
   "outputs": [],
   "source": [
    "circuit = Circuit(\n",
    "    state=STATES.generate_zero_n_qubit_state(3),\n",
    "    gates=gates\n",
    ")"
   ],
   "metadata": {
    "collapsed": false,
    "ExecuteTime": {
     "end_time": "2025-08-17T21:08:12.309049300Z",
     "start_time": "2025-08-17T21:08:12.289620100Z"
    }
   },
   "id": "517eb7e01b4c669f"
  },
  {
   "cell_type": "code",
   "execution_count": 6,
   "outputs": [],
   "source": [],
   "metadata": {
    "collapsed": false,
    "ExecuteTime": {
     "end_time": "2025-08-17T21:08:12.691102100Z",
     "start_time": "2025-08-17T21:08:12.655775700Z"
    }
   },
   "id": "4a288e85ea27b673"
  },
  {
   "cell_type": "code",
   "execution_count": 7,
   "outputs": [
    {
     "data": {
      "text/plain": "<Figure size 758.234x284.278 with 1 Axes>",
      "image/png": "[encoded data removed]"
     },
     "metadata": {},
     "output_type": "display_data"
    }
   ],
   "source": [
    "draw_circuit(gates, 3)"
   ],
   "metadata": {
    "collapsed": false,
    "ExecuteTime": {
     "end_time": "2025-08-17T21:08:13.742039200Z",
     "start_time": "2025-08-17T21:08:13.022514100Z"
    }
   },
   "id": "bb835cdb314689ba"
  },
  {
   "cell_type": "code",
   "execution_count": 7,
   "outputs": [],
   "source": [],
   "metadata": {
    "collapsed": false,
    "ExecuteTime": {
     "end_time": "2025-08-17T21:08:14.209686500Z",
     "start_time": "2025-08-17T21:08:14.202908900Z"
    }
   },
   "id": "a7a05f92bd20c024"
  },
  {
   "cell_type": "markdown",
   "source": [
    "# NOISE"
   ],
   "metadata": {
    "collapsed": false
   },
   "id": "6579531d7213e791"
  },
  {
   "cell_type": "markdown",
   "source": [
    "## (i) Depolarizing Noise\n",
    "\n",
    "**What it is:**  \n",
    "Depolarizing noise models **gate infidelities**. After the ideal gate, the affected qubit undergoes a Pauli channel that mixes in the maximally mixed state with small probability.\n",
    "\n",
    "**When it affects:**  \n",
    "- Applied **after each gate**.  \n",
    "- For **1-qubit gates**: the channel acts on the operated qubit.  \n",
    "- For **2-qubit gates**: the channel acts **only on the target qubit** (consistent with the asymmetric role of control vs. target in e.g. CNOT).\n",
    "\n",
    "**Typical rates:**  \n",
    "- 1-qubit gates: $p_{1}^{(1q)} \\sim 10^{-3}$  \n",
    "- 2-qubit gates: $p_{1}^{(2q)} \\sim 5 \\times 10^{-3}$  \n",
    "- Often gate-dependent overrides are used (e.g. $p(\\mathrm{CNOT}) \\approx 0.02$).\n",
    "\n",
    "**Mathematical representation:**  \n",
    "For a density matrix $\\rho$, the one-qubit depolarizing channel is\n",
    "$$\n",
    "\\mathcal{E}_{\\mathrm{depol}}(\\rho)\n",
    "= (1-p)\\,\\rho + \\frac{p}{3}\\Big(X\\rho X + Y\\rho Y + Z\\rho Z\\Big).\n",
    "$$\n",
    "\n",
    "- For a 1-qubit gate on qubit $q$, apply $\\mathcal{E}_{\\mathrm{depol}}$ to $q$.  \n",
    "- For a 2-qubit gate $(c,t)$, apply $\\mathcal{E}_{\\mathrm{depol}}$ to the **target qubit $t$ only**.\n",
    "\n",
    "**Kraus operators (for the affected qubit):**\n",
    "$$\n",
    "K_{0}=\\sqrt{1-p}\\,I,\\qquad\n",
    "K_{1}=\\sqrt{\\tfrac{p}{3}}\\,X,\\qquad\n",
    "K_{2}=\\sqrt{\\tfrac{p}{3}}\\,Y,\\qquad\n",
    "K_{3}=\\sqrt{\\tfrac{p}{3}}\\,Z,\n",
    "$$\n",
    "so that\n",
    "$$\n",
    "\\mathcal{E}_{\\mathrm{depol}}(\\rho)=\\sum_{i=0}^3 K_i\\,\\rho\\,K_i^\\dagger.\n",
    "$$\n"
   ],
   "metadata": {
    "collapsed": false
   },
   "id": "e03fe28530992bb4"
  },
  {
   "cell_type": "markdown",
   "source": [
    "## (ii) SPAM Noise\n",
    "\n",
    "**What it is:**  \n",
    "SPAM (State Preparation And Measurement) noise models **imperfect initialization** and **readout errors**.  \n",
    "- **Preparation error:** when preparing $|0\\rangle$, a flip to $|1\\rangle$ can occur with probability $p_2$.  \n",
    "- **Measurement error:** when measuring, the outcome bit can be flipped with probability $p_2$.\n",
    "\n",
    "**When it affects:**  \n",
    "- At the **start** (state preparation).  \n",
    "- At the **end** (measurement).\n",
    "\n",
    "**Typical rates:**  \n",
    "- Preparation errors: $\\sim 10^{-3}$.  \n",
    "- Measurement errors: $\\sim 1\\%\\text{–}5\\%$ (platform-dependent).\n",
    "\n",
    "**Mathematical representation (Pauli-$X$ channel):**  \n",
    "Kraus operators\n",
    "$$\n",
    "K_{M0}=\\sqrt{1-p_2}\\,I,\\qquad K_{M1}=\\sqrt{p_2}\\,X,\n",
    "$$\n",
    "so that\n",
    "$$\n",
    "\\mathcal{E}_{\\mathrm{SPAM}}(\\rho)=(1-p_2)\\rho+p_2\\,X\\rho X.\n",
    "$$\n"
   ],
   "metadata": {
    "collapsed": false
   },
   "id": "1e83e13f13d833c"
  },
  {
   "cell_type": "markdown",
   "source": [
    "## (iii) TRC Noise (Thermal Relaxation + Dephasing)\n",
    "\n",
    "**What it is:**  \n",
    "The TRC channel models **amplitude damping** (energy relaxation, $T_1$) and **pure dephasing** ($T_2$). It captures relaxation toward $|0\\rangle$ and loss of phase coherence over a **gate duration** $T_g$.\n",
    "\n",
    "**When it affects:**  \n",
    "- **After every gate** with finite duration $T_g$.  \n",
    "- Acts **independently on each qubit** touched by the gate.  \n",
    "- Low-temperature limit ($\\Theta \\approx 0$): excitations are negligible.\n",
    "\n",
    "**Customary scales:**  \n",
    "- $T_1, T_2$: tens of $\\mu$s; $T_g$: ns–hundreds of ns.  \n",
    "- Per-gate reset probability:\n",
    "$$\n",
    "p_{\\mathrm{reset}} = 1 - e^{-T_g/T_1}.\n",
    "$$\n",
    "- Per-gate dephasing probability:\n",
    "$$\n",
    "p_Z = (1 - p_{\\mathrm{reset}})\n",
    "\\,\\frac{1 - \\big(e^{-T_g/T_2}/e^{-T_g/T_1}\\big)}{2}.\n",
    "$$\n",
    "Let $p_I = 1 - p_{\\mathrm{reset}} - p_Z$.\n",
    "\n",
    "**Channel form:**  \n",
    "$$\n",
    "\\mathcal{E}_{\\mathrm{TRC}}(\\rho) = p_I\\,\\rho + p_Z\\,Z\\rho Z + p_{\\mathrm{reset}}\\,|0\\rangle\\langle 0| .\n",
    "$$\n",
    "\n",
    "**Kraus operators (low-$T$):**\n",
    "$$\n",
    "K_0=\\begin{pmatrix}1&0\\\\[2pt]0&\\sqrt{1-p_{\\mathrm{reset}}}\\end{pmatrix},\\quad\n",
    "K_1=\\begin{pmatrix}0&\\sqrt{p_{\\mathrm{reset}}}\\\\[2pt]0&0\\end{pmatrix},\\quad\n",
    "K_2=\\sqrt{p_Z}\\,Z.\n",
    "$$\n"
   ],
   "metadata": {
    "collapsed": false
   },
   "id": "9197135de2dad155"
  },
  {
   "cell_type": "markdown",
   "source": [
    "![Noise channels](images/noise_channels.png)\n",
    "![Two qubit gates ](images/noise_channels_two_qubit_gates.png)\n"
   ],
   "metadata": {
    "collapsed": false
   },
   "id": "bdafb7977e2a2f2c"
  },
  {
   "cell_type": "code",
   "execution_count": null,
   "outputs": [],
   "source": [
    "# TODO result graphs!? compare noisy and normal? - also interactive graphs for noise!"
   ],
   "metadata": {
    "collapsed": false
   },
   "id": "158ae4dc2db3bc29"
  }
 ],
 "metadata": {
  "kernelspec": {
   "display_name": "Python 3",
   "language": "python",
   "name": "python3"
  },
  "language_info": {
   "codemirror_mode": {
    "name": "ipython",
    "version": 2
   },
   "file_extension": ".py",
   "mimetype": "text/x-python",
   "name": "python",
   "nbconvert_exporter": "python",
   "pygments_lexer": "ipython2",
   "version": "2.7.6"
  }
 },
 "nbformat": 4,
 "nbformat_minor": 5
}
